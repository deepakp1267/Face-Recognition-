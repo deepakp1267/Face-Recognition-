{
 "cells": [
  {
   "cell_type": "markdown",
   "id": "395590e8",
   "metadata": {},
   "source": [
    "## Face Recognition by Deepak Pardhi"
   ]
  },
  {
   "cell_type": "code",
   "execution_count": null,
   "id": "30a0f860",
   "metadata": {},
   "outputs": [],
   "source": [
    "\n",
    "## install face_recognition library using pip cmd\n",
    "\n",
    "!pip install face_recognition"
   ]
  },
  {
   "cell_type": "code",
   "execution_count": null,
   "id": "23fd8638",
   "metadata": {
    "scrolled": true
   },
   "outputs": [],
   "source": [
    "## install opencv library \n",
    "\n",
    "! pip install opencv-python\n"
   ]
  },
  {
   "cell_type": "code",
   "execution_count": null,
   "id": "3189f9c7",
   "metadata": {},
   "outputs": [],
   "source": [
    "## after installation opencv , you have to import library \n",
    "\n",
    "import cv2"
   ]
  },
  {
   "cell_type": "code",
   "execution_count": null,
   "id": "615a0ede",
   "metadata": {},
   "outputs": [],
   "source": [
    "## with thehelp of this cmd you can find out the python , where your python are in drive \n",
    "%%cmd\n",
    "where python"
   ]
  },
  {
   "cell_type": "code",
   "execution_count": null,
   "id": "597be893",
   "metadata": {},
   "outputs": [],
   "source": [
    "%%cmd\n",
    "pip install cmake"
   ]
  },
  {
   "cell_type": "code",
   "execution_count": null,
   "id": "b32c1b1f",
   "metadata": {},
   "outputs": [],
   "source": [
    "%%cmd\n",
    "python --version\n"
   ]
  },
  {
   "cell_type": "code",
   "execution_count": null,
   "id": "736af643",
   "metadata": {},
   "outputs": [],
   "source": [
    "## now you have to install 'dlib' It provides pre-trained models for face detection and facial landmark detection\n",
    "\n",
    "!pip install dlib"
   ]
  },
  {
   "cell_type": "code",
   "execution_count": null,
   "id": "83be0551",
   "metadata": {},
   "outputs": [],
   "source": [
    "## importing library\n",
    "import os\n",
    "import cv2\n",
    "import numpy as np"
   ]
  },
  {
   "cell_type": "code",
   "execution_count": null,
   "id": "d36d4c22",
   "metadata": {},
   "outputs": [],
   "source": []
  },
  {
   "cell_type": "code",
   "execution_count": null,
   "id": "087421e0",
   "metadata": {},
   "outputs": [],
   "source": []
  },
  {
   "cell_type": "code",
   "execution_count": null,
   "id": "db9c5ded",
   "metadata": {},
   "outputs": [],
   "source": [
    "##   using  CascadeClassifier you can detect objects in images or videos, especially for tasks like face detection\n",
    "\n",
    "## In the package of cv2 you have  3 xml files , from them you have to select one and use it \n",
    "\n",
    "face_cap = cv2.CascadeClassifier(\"C:/Users/Lenovo/AppData/Local/Packages/PythonSoftwareFoundation.Python.3.7_qbz5n2kfra8p0/LocalCache/local-packages/Python37/site-packages/cv2/data/haarcascade_frontalface_default.xml\")\n",
    "video_cap = cv2.VideoCapture(0)\n",
    "while True :\n",
    "        ret , video_data = video_cap.read()\n",
    "        col = cv2.cvtColor(video_data,cv2.COLOR_BGR2GRAY)\n",
    "        faces = face_cap.detectMultiScale(\n",
    "            col,\n",
    "            scaleFactor =1.1,\n",
    "            minNeighbors = 5,\n",
    "            minSize =(30,30),\n",
    "            flags = cv2.CASCADE_SCALE_IMAGE\n",
    "        )\n",
    "    \n",
    "        \n",
    "        for (x,y,w,h) in faces:\n",
    "            cv2.rectangle(video_data,(x,y),(x+w,y+h),(0,255,0),2)\n",
    "        cv2.imshow(\"video_live\",video_data)\n",
    "        if cv2.waitKey(10) == ord(\"a\"):    ## if video are on then using 'a' key to stop the video\n",
    "            break\n",
    "video_cap.release()  "
   ]
  },
  {
   "cell_type": "code",
   "execution_count": null,
   "id": "3f43142b",
   "metadata": {},
   "outputs": [],
   "source": []
  },
  {
   "cell_type": "code",
   "execution_count": null,
   "id": "f884a3f8",
   "metadata": {},
   "outputs": [],
   "source": []
  },
  {
   "cell_type": "code",
   "execution_count": null,
   "id": "3b297a4c",
   "metadata": {},
   "outputs": [],
   "source": [
    "\n",
    "# video_cap =cv2.VideoCapture(0)\n",
    "# while True:\n",
    "#     ret , video_data = video_cap.read()\n",
    "#     cv2.imshow(\"video_live\",video_data)\n",
    "#     if cv2.waitKey(10) == ord(\"a\"):\n",
    "#         break\n",
    "# video_cap.release()  "
   ]
  },
  {
   "cell_type": "code",
   "execution_count": null,
   "id": "230647e8",
   "metadata": {},
   "outputs": [],
   "source": [
    "  "
   ]
  }
 ],
 "metadata": {
  "kernelspec": {
   "display_name": "Python 3 (ipykernel)",
   "language": "python",
   "name": "python3"
  },
  "language_info": {
   "codemirror_mode": {
    "name": "ipython",
    "version": 3
   },
   "file_extension": ".py",
   "mimetype": "text/x-python",
   "name": "python",
   "nbconvert_exporter": "python",
   "pygments_lexer": "ipython3",
   "version": "3.10.9"
  }
 },
 "nbformat": 4,
 "nbformat_minor": 5
}
